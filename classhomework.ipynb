{
 "cells": [
  {
   "cell_type": "markdown",
   "metadata": {},
   "source": [
    "1.Given two numbers a and b ,find a/b(b may be zero)"
   ]
  },
  {
   "cell_type": "code",
   "execution_count": 1,
   "metadata": {},
   "outputs": [
    {
     "name": "stdout",
     "output_type": "stream",
     "text": [
      " value of a is 45.0\n",
      " value of b is 9.0\n",
      "value of a/b is 5.0\n"
     ]
    }
   ],
   "source": [
    "num1=float(input(\"Enter the value of a:\"))\n",
    "print(\" value of a is\",num1)\n",
    "num2=float(input('Enter the value of b:'))\n",
    "print(\" value of b is\",num2)\n",
    "if num2!=0 :\n",
    "            print(\"value of a/b is\",num1/num2)\n",
    "else:\n",
    "       print(\"not defined\")\n",
    "\n"
   ]
  },
  {
   "cell_type": "markdown",
   "metadata": {},
   "source": [
    "2.Given a point in 2D space ,find the quadrant in which it lies."
   ]
  },
  {
   "cell_type": "code",
   "execution_count": 1,
   "metadata": {},
   "outputs": [
    {
     "name": "stdout",
     "output_type": "stream",
     "text": [
      "x cordinate of point is -7.0\n",
      "y cordinate of point is 9.0\n",
      "point lies in 2nd quadrant\n"
     ]
    }
   ],
   "source": [
    "x=float(input(\"x-cordinate of point \"))\n",
    "print(\"x cordinate of point is\",x)\n",
    "y=float(input(\"y-cordinate of point\"))\n",
    "print(\"y cordinate of point is\",y)\n",
    "if x>0 and y>0:\n",
    "            print(\"point lies in 1st quadrant\")\n",
    "elif x<0 and y>0:\n",
    "            print(\"point lies in 2nd quadrant\")\n",
    "elif x<0 and y<0 :\n",
    "            print(\"point lies in 3rd quadrant\")\n",
    "elif x>0 and y<0:\n",
    "            print(\"point lies in 4th quadrant\")\n",
    "elif x==0 and y==0:\n",
    "            print(\"point is on origin\")\n",
    "elif x==0:\n",
    "            print(\"point is on y-axix\")\n",
    "else :\n",
    "            print(\"point is on x-axix\")\n",
    "        "
   ]
  },
  {
   "cell_type": "markdown",
   "metadata": {},
   "source": [
    "3.Given two points in 2D space,find the slope and y-intercept of the line joining them.consider all cases.\n"
   ]
  },
  {
   "cell_type": "code",
   "execution_count": 2,
   "metadata": {},
   "outputs": [
    {
     "name": "stdout",
     "output_type": "stream",
     "text": [
      "x cordinate of first point is 3.0\n",
      "y cordinate of first point is 2.0\n",
      "x cordinate of 2nd point is 4.0\n",
      "y cordinate of 2nd point is 1.0\n",
      "slope of given points is -1.0\n",
      "y-intercept is 5.0\n"
     ]
    }
   ],
   "source": [
    "x1=float(input(\"x-cordinate of  1st point:\"))\n",
    "print(\"x cordinate of first point is\",x1)\n",
    "y1=float(input(\"y-cordinate of 1st point:\"))\n",
    "print(\"y cordinate of first point is\",y1)\n",
    "x2=float(input(\"x-cordinate of 2nd point:\"))\n",
    "print(\"x cordinate of 2nd point is\",x2)\n",
    "y2=float(input(\"y-cordinate of 2nd point:\"))\n",
    "print(\"y cordinate of 2nd point is\",y2)\n",
    "if x1!=x2 :\n",
    "    print(\"slope of given points is\",(y2-y1)/(x2-x1)) # Here i have applied the formula of slope if two point is given\n",
    "    print(\"y-intercept is\",(y1*(x2-x1) - ((y2-y1)*x1))/(x2-x1)) # Here i have applied direct formula of y intercept.\n",
    "else :\n",
    "    print(\"slope is not defined\") # because if x cordinate of both point is same then line become parell to y axix and slope of perpendicular line is not defined.\n",
    "    print(\"y-intercept is not defined\")"
   ]
  },
  {
   "cell_type": "markdown",
   "metadata": {},
   "source": [
    "4.Given a temperature in fahrenheit,convert it to celsius.if the temperature is below 10 degree celcius output cold,between 10 and 25 output pleasant,between 25 and 35 output warm,and above 35 output hot."
   ]
  },
  {
   "cell_type": "code",
   "execution_count": 3,
   "metadata": {},
   "outputs": [
    {
     "name": "stdout",
     "output_type": "stream",
     "text": [
      "temperature in fahrenheit: 212.0\n",
      "temperature in celcius is 100.0 and it is hot\n"
     ]
    }
   ],
   "source": [
    "Tem=float(input(\"enter the temperature in fahrenheit:\"))\n",
    "print(\"temperature in fahrenheit:\",Tem)\n",
    "c = (Tem-32)*(5/9)\n",
    "if c<= 10:\n",
    "    print(\"temperature in celcius is\",c,\"and it is cold\")\n",
    "elif c>10 and c<=25:\n",
    "    print(\"temperature in celcius is\",c,\"and it is Pleasant\")\n",
    "elif c>25 and  c<=35:\n",
    "    print(\"temperature in celcius is\",c,\"and it is Warm\")\n",
    "else:\n",
    "    print(\"temperature in celcius is\",c,\"and it is hot\")"
   ]
  },
  {
   "cell_type": "markdown",
   "metadata": {},
   "source": [
    "5.Given a quadratic equation with coefficient a,b and c.find the two solutions(may be real or complex).You should not take the square root of a negative number in your code."
   ]
  },
  {
   "cell_type": "code",
   "execution_count": 2,
   "metadata": {},
   "outputs": [
    {
     "name": "stdout",
     "output_type": "stream",
     "text": [
      "solution is -2.0\n"
     ]
    }
   ],
   "source": [
    "a=float(input(\"coefficient of X^2:\"))\n",
    "print(\"coefficient of x^2 is\",a)\n",
    "b=float(input(\"coefficient of X:\"))\n",
    "print(\"coefficient of x is\",b)\n",
    "c=float(input(\"constant term:\"))\n",
    "print(\"constant term\" ,c)\n",
    "if (b**2-4*a*c >= 0) and (a!=0):\n",
    "    print(\"One of solution is\",(-b+(b**2-4*a*c)**(1/2))/(2*a),\"second solution is\",(-b-(b**2-4*a*c)**(1/2))/(2*a))\n",
    "elif a==0:\n",
    "    print(\"solution is\",(-c/b))\n",
    "else:\n",
    "    print(\"there is no real solution\")\n"
   ]
  },
  {
   "cell_type": "markdown",
   "metadata": {},
   "source": [
    "6.Given three points,find out wheather they lie on the same straight line or not"
   ]
  },
  {
   "cell_type": "code",
   "execution_count": 3,
   "metadata": {},
   "outputs": [
    {
     "name": "stdout",
     "output_type": "stream",
     "text": [
      "x cordinate of 1st point is 5.0\n",
      "y cordinate of 1st point is 2.0\n",
      "x cordinate of 2nd  point is 7.0\n",
      "y cordinate of 2nd point is 5.0\n",
      "x cordinate of 3rd point is 4.0\n",
      "y cordinate of 3rd point is 3.0\n",
      "all three points do not lie on same straight line\n"
     ]
    }
   ],
   "source": [
    "x1=float(input(\"enter the x cordinate of 1st point:\"))\n",
    "print(\"x cordinate of 1st point is\",x1)\n",
    "y1=float(input(\"enter the y cordinate of 1st point:\"))\n",
    "print(\"y cordinate of 1st point is\",y1)\n",
    "x2=float(input(\"enter the x cordinate of 2nd point:\"))\n",
    "print(\"x cordinate of 2nd  point is\",x2)\n",
    "y2=float(input(\"enter the y cordinate of 2nd point:\"))\n",
    "print(\"y cordinate of 2nd point is\",y2)\n",
    "x3=float(input(\"enter the x cordinate of 3rd point:\"))\n",
    "print(\"x cordinate of 3rd point is\",x3)\n",
    "y3=float(input(\"enter the y cordinate of 3rd point:\"))\n",
    "print(\"y cordinate of 3rd point is\",y3)\n",
    "if (x1!=x2) and (x3!=x1):\n",
    "    s1=((y2-y1)/(x2-x1))\n",
    "    s2=((y3-y2)/(x3-x2))\n",
    "    if s1==s2 :\n",
    "        print(\" all three points lie on same straight line\")\n",
    "    elif s1!=s2:\n",
    "        print(\"all three points do not lie on same straight line\")\n",
    "elif (x1==x2) and (x2==x3) :\n",
    "    print(\"all three points lie on same straight line\")\n",
    "elif y1==y2 and y3==y2:\n",
    "    print(\"all three points lie on same straight line\")\n",
    "    \n"
   ]
  },
  {
   "cell_type": "markdown",
   "metadata": {},
   "source": []
  },
  {
   "cell_type": "markdown",
   "metadata": {},
   "source": []
  }
 ],
 "metadata": {
  "kernelspec": {
   "display_name": "Python 3",
   "language": "python",
   "name": "python3"
  },
  "language_info": {
   "codemirror_mode": {
    "name": "ipython",
    "version": 3
   },
   "file_extension": ".py",
   "mimetype": "text/x-python",
   "name": "python",
   "nbconvert_exporter": "python",
   "pygments_lexer": "ipython3",
   "version": "3.11.4"
  },
  "orig_nbformat": 4
 },
 "nbformat": 4,
 "nbformat_minor": 2
}
